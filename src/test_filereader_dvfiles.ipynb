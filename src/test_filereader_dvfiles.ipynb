{
 "cells": [
  {
   "cell_type": "code",
   "execution_count": 19,
   "metadata": {},
   "outputs": [],
   "source": [
    "import pandas as pd\n",
    "import pathlib"
   ]
  },
  {
   "cell_type": "code",
   "execution_count": 46,
   "metadata": {},
   "outputs": [],
   "source": [
    "class data_volley_parser():\n",
    "    __keyword_list = []\n",
    "    __col_name = \"data_volley_data\"\n",
    "\n",
    "\n",
    "\n",
    "    def get_keyword_list(self):\n",
    "        return self.__keyword_list\n",
    "\n",
    "\n",
    "\n",
    "\n",
    "\n",
    "    def __check_keyword_list(self, new_keywords=[]):\n",
    "        set_list = list(set(new_keywords[self.__col_name]))\n",
    "        self.__keyword_list = self.__keyword_list + set_list\n",
    "        self.__keyword_list = list(set(self.__keyword_list))\n",
    "\n",
    "\n",
    "\n",
    "    def check_keywords_in_data_volleyscout(self, file):\n",
    "        check_file = file\n",
    "        try:\n",
    "            file_linedata = open(check_file,\"r\", encoding=\"Latin-1\").readlines()\n",
    "            pd_linedata = pd.DataFrame(file_linedata, columns=[self.__col_name])\n",
    "            pd_linedata[self.__col_name] = pd_linedata[self.__col_name].str.replace(\"\\n\",\"\")\n",
    "            keywords_in_scout = pd_linedata[pd_linedata[self.__col_name].str.startswith(\"[\")]\n",
    "            self.__check_keyword_list(new_keywords=keywords_in_scout)\n",
    "        except Exception as reader_error:\n",
    "            print(str(reader_error))"
   ]
  },
  {
   "cell_type": "code",
   "execution_count": 47,
   "metadata": {},
   "outputs": [],
   "source": [
    "data_volley_files = list(pathlib.Path(\"data\").rglob(\"*.dvw\"))"
   ]
  },
  {
   "cell_type": "code",
   "execution_count": 48,
   "metadata": {},
   "outputs": [],
   "source": [
    "dv_obj = data_volley_parser()"
   ]
  },
  {
   "cell_type": "code",
   "execution_count": 49,
   "metadata": {},
   "outputs": [],
   "source": [
    "for file in data_volley_files:\n",
    "    dv_obj.check_keywords_in_data_volleyscout(file)"
   ]
  },
  {
   "cell_type": "code",
   "execution_count": 50,
   "metadata": {},
   "outputs": [
    {
     "data": {
      "text/plain": [
       "['[3COMMENTS]',\n",
       " '[3PLAYERS-H]',\n",
       " '[3MORE]',\n",
       " '[3RESERVE]',\n",
       " '[3ATTACKCOMBINATION]',\n",
       " '[3MATCH]',\n",
       " '[3TEAMS]',\n",
       " '[3SET]',\n",
       " '[3PLAYERS-V]',\n",
       " '[3WINNINGSYMBOLS]',\n",
       " '[3SCOUT]',\n",
       " '[3DATAVOLLEYSCOUT]',\n",
       " '[3SETTERCALL]']"
      ]
     },
     "execution_count": 50,
     "metadata": {},
     "output_type": "execute_result"
    }
   ],
   "source": [
    "dv_obj.get_keyword_list()"
   ]
  },
  {
   "cell_type": "code",
   "execution_count": null,
   "metadata": {},
   "outputs": [],
   "source": []
  },
  {
   "cell_type": "code",
   "execution_count": null,
   "metadata": {},
   "outputs": [],
   "source": []
  },
  {
   "cell_type": "code",
   "execution_count": 57,
   "metadata": {},
   "outputs": [],
   "source": [
    "file_linedata = open(data_volley_files[7],\"r\", encoding=\"Latin-1\").readlines()\n",
    "pd_file = pd.DataFrame(file_linedata, columns=[\"filedata\"])\n",
    "pd_file[\"filedata\"] = pd_file[\"filedata\"].str.replace(\"\\n\",\"\")"
   ]
  },
  {
   "cell_type": "code",
   "execution_count": 63,
   "metadata": {},
   "outputs": [],
   "source": [
    "keylist_in_file = pd_file[pd_file[\"filedata\"].str.startswith(\"[\")]"
   ]
  },
  {
   "cell_type": "code",
   "execution_count": 64,
   "metadata": {},
   "outputs": [
    {
     "data": {
      "text/html": [
       "<div>\n",
       "<style scoped>\n",
       "    .dataframe tbody tr th:only-of-type {\n",
       "        vertical-align: middle;\n",
       "    }\n",
       "\n",
       "    .dataframe tbody tr th {\n",
       "        vertical-align: top;\n",
       "    }\n",
       "\n",
       "    .dataframe thead th {\n",
       "        text-align: right;\n",
       "    }\n",
       "</style>\n",
       "<table border=\"1\" class=\"dataframe\">\n",
       "  <thead>\n",
       "    <tr style=\"text-align: right;\">\n",
       "      <th></th>\n",
       "      <th>filedata</th>\n",
       "    </tr>\n",
       "  </thead>\n",
       "  <tbody>\n",
       "    <tr>\n",
       "      <th>0</th>\n",
       "      <td>[3DATAVOLLEYSCOUT]</td>\n",
       "    </tr>\n",
       "    <tr>\n",
       "      <th>14</th>\n",
       "      <td>[3MATCH]</td>\n",
       "    </tr>\n",
       "    <tr>\n",
       "      <th>17</th>\n",
       "      <td>[3TEAMS]</td>\n",
       "    </tr>\n",
       "    <tr>\n",
       "      <th>20</th>\n",
       "      <td>[3MORE]</td>\n",
       "    </tr>\n",
       "    <tr>\n",
       "      <th>23</th>\n",
       "      <td>[3COMMENTS]</td>\n",
       "    </tr>\n",
       "    <tr>\n",
       "      <th>25</th>\n",
       "      <td>[3SET]</td>\n",
       "    </tr>\n",
       "    <tr>\n",
       "      <th>31</th>\n",
       "      <td>[3PLAYERS-H]</td>\n",
       "    </tr>\n",
       "    <tr>\n",
       "      <th>44</th>\n",
       "      <td>[3PLAYERS-V]</td>\n",
       "    </tr>\n",
       "    <tr>\n",
       "      <th>57</th>\n",
       "      <td>[3ATTACKCOMBINATION]</td>\n",
       "    </tr>\n",
       "    <tr>\n",
       "      <th>95</th>\n",
       "      <td>[3SETTERCALL]</td>\n",
       "    </tr>\n",
       "    <tr>\n",
       "      <th>96</th>\n",
       "      <td>[3WINNINGSYMBOLS]</td>\n",
       "    </tr>\n",
       "    <tr>\n",
       "      <th>98</th>\n",
       "      <td>[3RESERVE]</td>\n",
       "    </tr>\n",
       "    <tr>\n",
       "      <th>99</th>\n",
       "      <td>[3SCOUT]</td>\n",
       "    </tr>\n",
       "  </tbody>\n",
       "</table>\n",
       "</div>"
      ],
      "text/plain": [
       "                filedata\n",
       "0     [3DATAVOLLEYSCOUT]\n",
       "14              [3MATCH]\n",
       "17              [3TEAMS]\n",
       "20               [3MORE]\n",
       "23           [3COMMENTS]\n",
       "25                [3SET]\n",
       "31          [3PLAYERS-H]\n",
       "44          [3PLAYERS-V]\n",
       "57  [3ATTACKCOMBINATION]\n",
       "95         [3SETTERCALL]\n",
       "96     [3WINNINGSYMBOLS]\n",
       "98            [3RESERVE]\n",
       "99              [3SCOUT]"
      ]
     },
     "execution_count": 64,
     "metadata": {},
     "output_type": "execute_result"
    }
   ],
   "source": [
    "keylist_in_file"
   ]
  },
  {
   "cell_type": "code",
   "execution_count": 60,
   "metadata": {},
   "outputs": [],
   "source": [
    "# structure of data volley files (max paresed)\n",
    "dv_datavolleyscout      = {\"start_id\":None , \"end_id\":None, \"data\":None}\n",
    "dv_match                = {\"start_id\":None , \"end_id\":None, \"data\":None}\n",
    "dv_teams                = {\"start_id\":None , \"end_id\":None, \"data\":None}\n",
    "dv_more                 = {\"start_id\":None , \"end_id\":None, \"data\":None}\n",
    "dv_comments             = {\"start_id\":None , \"end_id\":None, \"data\":None}\n",
    "dv_set                  = {\"start_id\":None , \"end_id\":None, \"data\":None}\n",
    "dv_players_h            = {\"start_id\":None , \"end_id\":None, \"data\":None}\n",
    "dv_players_v            = {\"start_id\":None , \"end_id\":None, \"data\":None}\n",
    "dv_attackcombination    = {\"start_id\":None , \"end_id\":None, \"data\":None}\n",
    "dv_settercall           = {\"start_id\":None , \"end_id\":None, \"data\":None}\n",
    "dv_winningsymbols       = {\"start_id\":None , \"end_id\":None, \"data\":None}\n",
    "dv_reserve              = {\"start_id\":None , \"end_id\":None, \"data\":None}\n",
    "dv_scout                = {\"start_id\":None , \"end_id\":None, \"data\":None}\n",
    "\n",
    "dv_protocol = { \"[3DATAVOLLEYSCOUT]\"    : dv_datavolleyscout, \n",
    "                \"[3MATCH]\"              : dv_match,\n",
    "                \"[3TEAMS]\"              : dv_teams,\n",
    "                \"[3MORE]\"               : dv_more,\n",
    "                \"[3COMMENTS]\"           : dv_comments,\n",
    "                \"[3SET]\"                : dv_set,\n",
    "                \"[3PLAYERS-H]\"          : dv_players_h,\n",
    "                \"[3PLAYERS-V]\"          : dv_players_v,\n",
    "                \"[3ATTACKCOMBINATION]\"  : dv_attackcombination,\n",
    "                \"[3SETTERCALL]\"         : dv_settercall,\n",
    "                \"[3WINNINGSYMBOLS]\"     : dv_winningsymbols,\n",
    "                \"[3RESERVE]\"            : dv_reserve,\n",
    "                \"[3SCOUT]\"              : dv_scout}"
   ]
  },
  {
   "cell_type": "code",
   "execution_count": 86,
   "metadata": {},
   "outputs": [
    {
     "name": "stdout",
     "output_type": "stream",
     "text": [
      "[3DATAVOLLEYSCOUT] 0\n",
      "[3MATCH] 14\n",
      "[3TEAMS] 17\n",
      "[3MORE] 20\n",
      "[3COMMENTS] 23\n",
      "[3SET] 25\n",
      "[3PLAYERS-H] 31\n",
      "[3PLAYERS-V] 44\n",
      "[3ATTACKCOMBINATION] 57\n",
      "[3SETTERCALL] 95\n",
      "[3WINNINGSYMBOLS] 96\n",
      "[3RESERVE] 98\n",
      "[3SCOUT] 99\n"
     ]
    }
   ],
   "source": [
    "for entry in keylist_in_file[\"filedata\"]:\n",
    "    print(entry, keylist_in_file[keylist_in_file[\"filedata\"] == entry].index[0])"
   ]
  },
  {
   "cell_type": "code",
   "execution_count": null,
   "metadata": {},
   "outputs": [],
   "source": []
  },
  {
   "cell_type": "code",
   "execution_count": null,
   "metadata": {},
   "outputs": [],
   "source": []
  },
  {
   "cell_type": "code",
   "execution_count": null,
   "metadata": {},
   "outputs": [],
   "source": []
  },
  {
   "cell_type": "code",
   "execution_count": 89,
   "metadata": {},
   "outputs": [
    {
     "name": "stdout",
     "output_type": "stream",
     "text": [
      "1\n",
      "1\n",
      "3\n",
      "2\n",
      "1\n",
      "3\n",
      "1\n",
      "3\n",
      "2\n",
      "3\n"
     ]
    }
   ],
   "source": [
    "import random\n",
    "\n",
    "for i in range(10):\n",
    "    print(random.randint(1,4))"
   ]
  },
  {
   "cell_type": "code",
   "execution_count": null,
   "metadata": {},
   "outputs": [],
   "source": []
  }
 ],
 "metadata": {
  "interpreter": {
   "hash": "949777d72b0d2535278d3dc13498b2535136f6dfe0678499012e853ee9abcab1"
  },
  "kernelspec": {
   "display_name": "Python 3.9.7 64-bit",
   "name": "python3"
  },
  "language_info": {
   "codemirror_mode": {
    "name": "ipython",
    "version": 3
   },
   "file_extension": ".py",
   "mimetype": "text/x-python",
   "name": "python",
   "nbconvert_exporter": "python",
   "pygments_lexer": "ipython3",
   "version": "3.9.7"
  },
  "orig_nbformat": 4
 },
 "nbformat": 4,
 "nbformat_minor": 2
}
